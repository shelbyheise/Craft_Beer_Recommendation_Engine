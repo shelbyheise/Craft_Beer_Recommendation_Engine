{
 "cells": [
  {
   "cell_type": "markdown",
   "metadata": {},
   "source": [
    "# Ready to find your next craft beer?"
   ]
  },
  {
   "cell_type": "markdown",
   "metadata": {},
   "source": [
    "### Let's get started! Run the next cell. "
   ]
  },
  {
   "cell_type": "code",
   "execution_count": 1,
   "metadata": {
    "scrolled": true
   },
   "outputs": [],
   "source": [
    "import pandas as pd\n",
    "import numpy as np\n",
    "from sklearn.metrics import jaccard_score\n",
    "from scipy.spatial.distance import pdist, squareform\n",
    "\n",
    "from sklearn.feature_extraction.text import TfidfVectorizer\n",
    "from sklearn.metrics.pairwise import cosine_similarity\n",
    "\n",
    "import ipywidgets as widgets\n",
    "from ipywidgets import Layout"
   ]
  },
  {
   "cell_type": "markdown",
   "metadata": {},
   "source": [
    "### Run the following cell to create the list of craft beers for selection."
   ]
  },
  {
   "cell_type": "code",
   "execution_count": 2,
   "metadata": {
    "scrolled": true
   },
   "outputs": [],
   "source": [
    "#Creates list of craft beers for selection\n",
    "df_2 = pd.read_csv('beer_data.csv', na_values=['none'])\n",
    "beer_list = df_2['beer_name'].to_list()\n",
    "beer_list = sorted(beer_list)\n",
    "\n",
    "#Creates dropdown menu\n",
    "beer_selection = widgets.Dropdown(\n",
    "    options=[x for x in beer_list],\n",
    "    style = {'description_width': 'initial'},\n",
    "    description='Select Your Favorite Craft Beer:',\n",
    "    disabled=False,\n",
    "    )"
   ]
  },
  {
   "cell_type": "markdown",
   "metadata": {},
   "source": [
    "### Select your favorite craft beer from the dropdown menu and run the next two cells."
   ]
  },
  {
   "cell_type": "code",
   "execution_count": 3,
   "metadata": {
    "scrolled": true
   },
   "outputs": [
    {
     "data": {
      "application/vnd.jupyter.widget-view+json": {
       "model_id": "fc3ea6ed45ba45f3bd1b4c5e7d341519",
       "version_major": 2,
       "version_minor": 0
      },
      "text/plain": [
       "Dropdown(description='Select Your Favorite Craft Beer:', options=('#001 Golden Amber Lager', '#002 American I.…"
      ]
     },
     "metadata": {},
     "output_type": "display_data"
    }
   ],
   "source": [
    "display(beer_selection)"
   ]
  },
  {
   "cell_type": "code",
   "execution_count": 4,
   "metadata": {
    "scrolled": true
   },
   "outputs": [],
   "source": [
    "dropD_value = beer_selection.value"
   ]
  },
  {
   "cell_type": "code",
   "execution_count": 5,
   "metadata": {
    "scrolled": true
   },
   "outputs": [],
   "source": [
    "def beer_recommender():\n",
    "    df = pd.read_csv('beer_data.csv', na_values=['none'])\n",
    "    df = df.drop(columns='Unnamed: 0')\n",
    "\n",
    "    #Creating column to be used as index\n",
    "    df['beer_info'] = df['beer_name']\n",
    "    df = df.set_index('beer_info')\n",
    "\n",
    "    #Converting everything to string for concat\n",
    "    df = df.astype(str)\n",
    "\n",
    "    #Create description column\n",
    "    df['description'] = df['abv'] + ' ' + df['beer_style'] + ' ' + df['brewery_name'] + ' ' + df['city'] + ' ' + df['state']\n",
    "    df_vect = df[['beer_name', 'description']]\n",
    "    df_vect = df_vect.reset_index(drop = True)\n",
    "    \n",
    "    #Set up vectorizer\n",
    "    tfidfvec = TfidfVectorizer(min_df=2, max_df=0.8)\n",
    "    \n",
    "    #Apply and convert to array\n",
    "    vectorized_df = tfidfvec.fit_transform(df_vect.description)\n",
    "\n",
    "    vectorized_df = vectorized_df.toarray()\n",
    "    \n",
    "    #Create dataframe and re-set index\n",
    "    tfidf_df = pd.DataFrame(vectorized_df, columns=tfidfvec.get_feature_names())\n",
    "\n",
    "    tfidf_df.index = df_vect['beer_name']\n",
    "    \n",
    "    #Set up cosine similarity on tfidf dataframe\n",
    "    cosine_similarity_array = cosine_similarity(tfidf_df)\n",
    "    cosine_sim_df = pd.DataFrame(cosine_similarity_array, index=tfidf_df.index, columns=tfidf_df.index)\n",
    "    \n",
    "    beer_drinker = dropD_value\n",
    "    cosine_sim_bd = cosine_sim_df.loc[beer_drinker]\n",
    "    bd_recommend = cosine_sim_bd.sort_values(ascending= False)\n",
    "    bd_recommend = bd_recommend.to_frame()\n",
    "    return bd_recommend.head(11)"
   ]
  },
  {
   "cell_type": "markdown",
   "metadata": {},
   "source": [
    "### This is it! Run the next cell to see your recommended beers."
   ]
  },
  {
   "cell_type": "code",
   "execution_count": 6,
   "metadata": {
    "scrolled": true
   },
   "outputs": [
    {
     "name": "stdout",
     "output_type": "stream",
     "text": [
      "Top 10 Recommended Beers\n"
     ]
    },
    {
     "data": {
      "text/html": [
       "<div>\n",
       "<style scoped>\n",
       "    .dataframe tbody tr th:only-of-type {\n",
       "        vertical-align: middle;\n",
       "    }\n",
       "\n",
       "    .dataframe tbody tr th {\n",
       "        vertical-align: top;\n",
       "    }\n",
       "\n",
       "    .dataframe thead th {\n",
       "        text-align: right;\n",
       "    }\n",
       "</style>\n",
       "<table border=\"1\" class=\"dataframe\">\n",
       "  <thead>\n",
       "    <tr style=\"text-align: right;\">\n",
       "      <th></th>\n",
       "      <th>#001 Golden Amber Lager</th>\n",
       "    </tr>\n",
       "    <tr>\n",
       "      <th>beer_name</th>\n",
       "      <th></th>\n",
       "    </tr>\n",
       "  </thead>\n",
       "  <tbody>\n",
       "    <tr>\n",
       "      <th>#001 Golden Amber Lager</th>\n",
       "      <td>1.000000</td>\n",
       "    </tr>\n",
       "    <tr>\n",
       "      <th>#004 Session I.P.A.</th>\n",
       "      <td>0.764878</td>\n",
       "    </tr>\n",
       "    <tr>\n",
       "      <th>#003 Brown &amp; Robust Porter</th>\n",
       "      <td>0.739742</td>\n",
       "    </tr>\n",
       "    <tr>\n",
       "      <th>#002 American I.P.A.</th>\n",
       "      <td>0.732559</td>\n",
       "    </tr>\n",
       "    <tr>\n",
       "      <th>BrewFarm Select Golden Lager</th>\n",
       "      <td>0.479757</td>\n",
       "    </tr>\n",
       "    <tr>\n",
       "      <th>Marblehead</th>\n",
       "      <td>0.402243</td>\n",
       "    </tr>\n",
       "    <tr>\n",
       "      <th>RT Lager</th>\n",
       "      <td>0.372951</td>\n",
       "    </tr>\n",
       "    <tr>\n",
       "      <th>California Route</th>\n",
       "      <td>0.328097</td>\n",
       "    </tr>\n",
       "    <tr>\n",
       "      <th>Track 1 Amber Lager</th>\n",
       "      <td>0.324902</td>\n",
       "    </tr>\n",
       "    <tr>\n",
       "      <th>Lizzy's Red</th>\n",
       "      <td>0.302993</td>\n",
       "    </tr>\n",
       "    <tr>\n",
       "      <th>Epicenter Amber Ale (2010)</th>\n",
       "      <td>0.291219</td>\n",
       "    </tr>\n",
       "  </tbody>\n",
       "</table>\n",
       "</div>"
      ],
      "text/plain": [
       "                              #001 Golden Amber Lager\n",
       "beer_name                                            \n",
       "#001 Golden Amber Lager                      1.000000\n",
       "#004 Session I.P.A.                          0.764878\n",
       "#003 Brown & Robust Porter                   0.739742\n",
       "#002 American I.P.A.                         0.732559\n",
       "BrewFarm Select Golden Lager                 0.479757\n",
       "Marblehead                                   0.402243\n",
       "RT Lager                                     0.372951\n",
       "California Route                             0.328097\n",
       "Track 1 Amber Lager                          0.324902\n",
       "Lizzy's Red                                  0.302993\n",
       "Epicenter Amber Ale (2010)                   0.291219"
      ]
     },
     "execution_count": 6,
     "metadata": {},
     "output_type": "execute_result"
    }
   ],
   "source": [
    "print('Top 10 Recommended Beers')\n",
    "beer_recommender()"
   ]
  },
  {
   "cell_type": "code",
   "execution_count": null,
   "metadata": {
    "scrolled": true
   },
   "outputs": [],
   "source": []
  }
 ],
 "metadata": {
  "kernelspec": {
   "display_name": "Python 3",
   "language": "python",
   "name": "python3"
  },
  "language_info": {
   "codemirror_mode": {
    "name": "ipython",
    "version": 3
   },
   "file_extension": ".py",
   "mimetype": "text/x-python",
   "name": "python",
   "nbconvert_exporter": "python",
   "pygments_lexer": "ipython3",
   "version": "3.8.5"
  }
 },
 "nbformat": 4,
 "nbformat_minor": 4
}
